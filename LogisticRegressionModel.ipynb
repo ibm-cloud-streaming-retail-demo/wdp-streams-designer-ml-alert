{
 "cells": [
  {
   "cell_type": "markdown",
   "metadata": {},
   "source": [
    "## Introduction"
   ]
  },
  {
   "cell_type": "markdown",
   "metadata": {},
   "source": [
    "This notebook contains a very early prototype for a LogisticRegression machine learning model.\n",
    "\n",
    "There is much more that needs to be done to flesh out this solution.  We are predicting the probability of a order item being cancelled, but it may make more sense to predict the probability of the overall order being cancelled."
   ]
  },
  {
   "cell_type": "markdown",
   "metadata": {},
   "source": [
    "## COS S3 endpoint"
   ]
  },
  {
   "cell_type": "markdown",
   "metadata": {},
   "source": [
    "Change the following variables to point to your COS S3 endpoint"
   ]
  },
  {
   "cell_type": "code",
   "execution_count": null,
   "metadata": {},
   "outputs": [],
   "source": [
    "api_key = 'changeme'\n",
    "service_instance_id = 'changeme'\n",
    "auth_endpoint = 'https://iam.bluemix.net/oidc/token'\n",
    "service_endpoint = 'https://s3-api.us-geo.objectstorage.service.networklayer.com' # you may need to change this\n",
    "bucket = 'streams-python-models'"
   ]
  },
  {
   "cell_type": "markdown",
   "metadata": {},
   "source": [
    "## Environment setup"
   ]
  },
  {
   "cell_type": "code",
   "execution_count": null,
   "metadata": {},
   "outputs": [],
   "source": [
    "!pip install --quiet numpy==1.11.1 --upgrade\n",
    "!pip install --quiet sklearn\n",
    "!pip install --quiet pandas"
   ]
  },
  {
   "cell_type": "code",
   "execution_count": null,
   "metadata": {},
   "outputs": [],
   "source": [
    "import sklearn\n",
    "import numpy as np\n",
    "import pandas as pd\n",
    "\n",
    "print('sklearn: ' + sklearn.__version__)\n",
    "print('numpy:   ' + np.__version__)\n",
    "print('pandas:  ' + pd.__version__)"
   ]
  },
  {
   "cell_type": "markdown",
   "metadata": {},
   "source": [
    "## Data download"
   ]
  },
  {
   "cell_type": "code",
   "execution_count": null,
   "metadata": {},
   "outputs": [],
   "source": [
    "ONLINE_RETAIL_XLSX  = './OnlineRetail.xlsx'"
   ]
  },
  {
   "cell_type": "code",
   "execution_count": null,
   "metadata": {},
   "outputs": [],
   "source": [
    "try:\n",
    "    # python 3\n",
    "    import urllib.request as urlrequest\n",
    "except ImportError:\n",
    "    import urllib as urlrequest\n",
    "\n",
    "source_url = \"http://archive.ics.uci.edu/ml/machine-learning-databases/00352/Online%20Retail.xlsx\"\n",
    "urlrequest.urlretrieve(source_url, ONLINE_RETAIL_XLSX)"
   ]
  },
  {
   "cell_type": "code",
   "execution_count": null,
   "metadata": {},
   "outputs": [],
   "source": [
    "# !ls -l OnlineRetail.xlsx"
   ]
  },
  {
   "cell_type": "code",
   "execution_count": null,
   "metadata": {},
   "outputs": [],
   "source": [
    "df = pd.read_excel(ONLINE_RETAIL_XLSX, sheetname='Online Retail')"
   ]
  },
  {
   "cell_type": "markdown",
   "metadata": {},
   "source": [
    "## Data cleansing"
   ]
  },
  {
   "cell_type": "code",
   "execution_count": null,
   "metadata": {},
   "outputs": [],
   "source": [
    "# If this code starts with letter 'c', it indicates a cancellation. \n",
    "# Create a column 'Cancelled' which has the values 1=Cancelled, 0=Not-cancelled\n",
    "\n",
    "df['Cancelled'] = df['InvoiceNo'].str.startswith('C')\n",
    "\n",
    "mask = df['Cancelled'] == True\n",
    "df.loc[mask, 'Cancelled'] = 1\n",
    "\n",
    "mask = df['Cancelled'].isnull()\n",
    "df.loc[mask, 'Cancelled'] = 0\n",
    "\n",
    "df.head()"
   ]
  },
  {
   "cell_type": "code",
   "execution_count": null,
   "metadata": {},
   "outputs": [],
   "source": [
    "# Take the absolute value for quantity and unitprice\n",
    "df['Quantity'] = df['Quantity'].abs()\n",
    "df['UnitPrice'] = df['UnitPrice'].abs()\n",
    "\n",
    "# Remove rows where CustomerID is null\n",
    "df.dropna(subset=['CustomerID'], how='all', inplace=True)\n",
    "\n",
    "# Convert customerID field to integer\n",
    "df['CustomerID'] = df['CustomerID'].astype(int)"
   ]
  },
  {
   "cell_type": "markdown",
   "metadata": {},
   "source": [
    "## Build Logistic Regression Model"
   ]
  },
  {
   "cell_type": "code",
   "execution_count": null,
   "metadata": {},
   "outputs": [],
   "source": [
    "from sklearn.linear_model import LogisticRegression\n",
    "logistic = LogisticRegression()"
   ]
  },
  {
   "cell_type": "code",
   "execution_count": null,
   "metadata": {},
   "outputs": [],
   "source": [
    "X = df[['UnitPrice', 'Quantity', 'CustomerID']]\n",
    "Y = df['Cancelled']"
   ]
  },
  {
   "cell_type": "code",
   "execution_count": null,
   "metadata": {},
   "outputs": [],
   "source": [
    "logistic.fit(X.values, list(Y.values))"
   ]
  },
  {
   "cell_type": "markdown",
   "metadata": {},
   "source": [
    "## Try out the model"
   ]
  },
  {
   "cell_type": "code",
   "execution_count": null,
   "metadata": {},
   "outputs": [],
   "source": [
    "# predict all rows with probability\n",
    "prediction = logistic.predict_proba(test)\n",
    "p_df = pd.DataFrame(prediction)\n",
    "p_df.head()"
   ]
  },
  {
   "cell_type": "markdown",
   "metadata": {},
   "source": [
    "## Save the model to DSX local file system"
   ]
  },
  {
   "cell_type": "code",
   "execution_count": null,
   "metadata": {},
   "outputs": [],
   "source": [
    "# Remove previous copies of the saved model\n",
    "! rm -f logistic.*\n",
    "! ls"
   ]
  },
  {
   "cell_type": "code",
   "execution_count": null,
   "metadata": {},
   "outputs": [],
   "source": [
    "import pickle\n",
    "pickle.dump(logistic, open( \"logistic.pkl\", \"wb\" ) )"
   ]
  },
  {
   "cell_type": "code",
   "execution_count": null,
   "metadata": {},
   "outputs": [],
   "source": [
    "! ls logistic.*"
   ]
  },
  {
   "cell_type": "markdown",
   "metadata": {},
   "source": [
    "## Save the model to IBM COS S3"
   ]
  },
  {
   "cell_type": "code",
   "execution_count": null,
   "metadata": {},
   "outputs": [],
   "source": [
    "import ibm_boto3\n",
    "from ibm_botocore.client import Config\n",
    "\n",
    "cos = ibm_boto3.resource('s3',\n",
    "                      ibm_api_key_id=api_key,\n",
    "                      ibm_service_instance_id=service_instance_id,\n",
    "                      ibm_auth_endpoint=auth_endpoint,\n",
    "                      config=Config(signature_version='oauth'),\n",
    "                      endpoint_url=service_endpoint)\n",
    "\n",
    "object = cos.Object(bucket, 'logistic.pkl')\n",
    "object.put(Body=open('logistic.pkl', 'rb'))"
   ]
  }
 ],
 "metadata": {
  "kernelspec": {
   "display_name": "Python 3.5 (Experimental) with Spark 1.6 (Unsupported)",
   "language": "python",
   "name": "python3"
  },
  "language_info": {
   "codemirror_mode": {
    "name": "ipython",
    "version": 3
   },
   "file_extension": ".py",
   "mimetype": "text/x-python",
   "name": "python",
   "nbconvert_exporter": "python",
   "pygments_lexer": "ipython3",
   "version": "3.5.2"
  }
 },
 "nbformat": 4,
 "nbformat_minor": 2
}
